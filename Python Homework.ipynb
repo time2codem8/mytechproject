{
 "cells": [
  {
   "cell_type": "markdown",
   "metadata": {},
   "source": [
    "To complete the homework simply fill in your answers in this jupyter notebook!\n",
    "\n",
    "Remember that there are many ways in which markup cells can be used and you can add useful things such as references and images to better explain your answers.\n",
    "\n",
    "It is perfectly fine if you copy your answer from somewhere else in the internet as long as you understand the code you copied and cite the source. However, refrain from asking help for your colleagues (unless you're really struggling) as the ability to find information online is crucial for any tech role you might want to have in the future.\n",
    "\n",
    "<h1> Question 1: Multiple prints</h1>\n",
    "Create 3 different variables of different types and print their values using a single print statement."
   ]
  },
  {
   "cell_type": "code",
   "execution_count": 3,
   "metadata": {},
   "outputs": [
    {
     "name": "stdout",
     "output_type": "stream",
     "text": [
      "1 True Hello\n"
     ]
    }
   ],
   "source": [
    "a, b, c = 1, True, 'Hello'\n",
    "print(a,b,c)"
   ]
  },
  {
   "cell_type": "markdown",
   "metadata": {},
   "source": [
    "<h1> Question 2: Data structures</h1>\n",
    "Create two variables containing each a nested list and a nested dictionary and demonstrate how to access specific items of it."
   ]
  },
  {
   "cell_type": "code",
   "execution_count": 63,
   "metadata": {},
   "outputs": [
    {
     "name": "stdout",
     "output_type": "stream",
     "text": [
      "Hello Mate\n",
      "Hello Brother\n"
     ]
    }
   ],
   "source": [
    "a_list = [['Hello'], [1, 2, 3], [3.21, 'Mate']]\n",
    "a_dict = {1: {'greeting': 'Hello'},\n",
    "          2: {'title': 'Brother'}}\n",
    "\n",
    "print(a_list[0][0], a_list[2][1])\n",
    "print(a_dict[1]['greeting'], a_dict[2]['title']) "
   ]
  },
  {
   "cell_type": "markdown",
   "metadata": {},
   "source": [
    "Now consider the following list,"
   ]
  },
  {
   "cell_type": "code",
   "execution_count": 180,
   "metadata": {},
   "outputs": [
    {
     "name": "stdout",
     "output_type": "stream",
     "text": [
      "[1, 2, 3, 4]\n",
      "[2, 4, 6, 8, 10]\n",
      "[3, 6, 9]\n",
      "12345678910\n"
     ]
    }
   ],
   "source": [
    "a_list = [1,2,3,4,5,6,7,8,9,10]\n",
    " \n",
    "print(a_list[0:4])\n",
    "\n",
    "even_number = [val for val in a_list if val % 2 == 0]\n",
    "print(even_number)\n",
    "\n",
    "three_times = [val for val in a_list if val % 3 == 0]\n",
    "print(three_times)\n",
    "\n",
    "print(*a_list, sep = \"\")"
   ]
  },
  {
   "cell_type": "markdown",
   "metadata": {},
   "source": [
    "1 - slice this list (by index) to contain only the numbers smaller than 5; <br>\n",
    "2 - make a loop to create a new list containing only the EVEN numbers of this list (bonus point if you use a list comprehension!!);<br>\n",
    "3 - make a loop to create a new list containing only the numbers that are multiples of 3;<br>\n",
    "Bonus - make a loop that will print every item on the list inside a sentence using a f-string."
   ]
  },
  {
   "cell_type": "markdown",
   "metadata": {},
   "source": [
    "<h1>Question 3: Creating functions</h1>\n",
    "\n",
    "Create a function that takes a list of numbers and convert them into strings. (bonus point if you use a list comprehension!!)"
   ]
  },
  {
   "cell_type": "code",
   "execution_count": 2,
   "metadata": {},
   "outputs": [
    {
     "data": {
      "text/plain": [
       "1"
      ]
     },
     "execution_count": 2,
     "metadata": {},
     "output_type": "execute_result"
    }
   ],
   "source": [
    "1"
   ]
  },
  {
   "cell_type": "code",
   "execution_count": 3,
   "metadata": {},
   "outputs": [
    {
     "data": {
      "text/plain": [
       "'1'"
      ]
     },
     "execution_count": 3,
     "metadata": {},
     "output_type": "execute_result"
    }
   ],
   "source": [
    "variable = 1\n",
    "str(variable)"
   ]
  },
  {
   "cell_type": "code",
   "execution_count": 23,
   "metadata": {},
   "outputs": [],
   "source": [
    "words = ['cat']"
   ]
  },
  {
   "cell_type": "code",
   "execution_count": 28,
   "metadata": {},
   "outputs": [],
   "source": [
    "for i, word in enumerate(words):\n",
    "    if word == 'cat':\n",
    "        words[i] = 'eggs'"
   ]
  },
  {
   "cell_type": "code",
   "execution_count": 30,
   "metadata": {},
   "outputs": [
    {
     "name": "stdout",
     "output_type": "stream",
     "text": [
      "['eggs']\n"
     ]
    }
   ],
   "source": [
    "print(words)"
   ]
  },
  {
   "cell_type": "code",
   "execution_count": 47,
   "metadata": {},
   "outputs": [],
   "source": [
    "def numberToString(the_list):\n",
    "    another_list = []\n",
    "    \n",
    "    for item in the_list:    \n",
    "        converted_item = str(item)\n",
    "        another_list.append(converted_item)\n",
    "        \n",
    "    return(another_list)"
   ]
  },
  {
   "cell_type": "code",
   "execution_count": 49,
   "metadata": {},
   "outputs": [
    {
     "name": "stdout",
     "output_type": "stream",
     "text": [
      "['123']\n"
     ]
    }
   ],
   "source": [
    "print(numberToString([123]))"
   ]
  },
  {
   "cell_type": "code",
   "execution_count": 16,
   "metadata": {},
   "outputs": [
    {
     "data": {
      "text/plain": [
       "['1', '2', '3', '4', '5']"
      ]
     },
     "execution_count": 16,
     "metadata": {},
     "output_type": "execute_result"
    }
   ],
   "source": [
    "my_list = [1,2,3,4,5]\n",
    "\n",
    "numberToString(the_list=my_list)"
   ]
  },
  {
   "cell_type": "code",
   "execution_count": 20,
   "metadata": {},
   "outputs": [
    {
     "data": {
      "text/plain": [
       "['1', '2', '3', '4', '5']"
      ]
     },
     "execution_count": 20,
     "metadata": {},
     "output_type": "execute_result"
    }
   ],
   "source": [
    "new_list = [str(number) for number in my_list]\n",
    "new_list"
   ]
  },
  {
   "cell_type": "code",
   "execution_count": 19,
   "metadata": {},
   "outputs": [
    {
     "data": {
      "text/plain": [
       "['0', '1', '2', '3', '4', '5', '6', '7', '8', '9']"
      ]
     },
     "execution_count": 19,
     "metadata": {},
     "output_type": "execute_result"
    }
   ],
   "source": [
    "new_list = [str(number) for number in range(10)]\n",
    "new_list"
   ]
  },
  {
   "cell_type": "markdown",
   "metadata": {},
   "source": [
    "Create a small calculator. The function should pick two numbers and perform one of four mathematical operations with it (sum/subtraction, division, multiplication, exponents). The desired operation should be an option (hint: what IF the user wants to do a sum?)\n",
    "\n",
    "Bonus: Make a function that can pick ANY number of numbers."
   ]
  },
  {
   "cell_type": "code",
   "execution_count": 52,
   "metadata": {},
   "outputs": [
    {
     "name": "stdout",
     "output_type": "stream",
     "text": [
      "6.3\n",
      "86.16\n",
      "9.306666666666667\n",
      "-0.20000000000000018\n"
     ]
    }
   ],
   "source": [
    "def addition(n1, n2):\n",
    "    return n1 + n2\n",
    "def multiply(n1, n2):\n",
    "    return n1 * n2\n",
    "def division(n1, n2):\n",
    "    return n1 / n2\n",
    "def subtraction(n1, n2):\n",
    "    return n1 - n2\n",
    "print(addition(2.9, 3.4))\n",
    "print(multiply(28.72, 3))\n",
    "print(division(27.92, 3))\n",
    "print(subtraction(2.8, 3))"
   ]
  },
  {
   "cell_type": "markdown",
   "metadata": {},
   "source": [
    "Create a function that check if a number is within a list of numbers."
   ]
  },
  {
   "cell_type": "code",
   "execution_count": 91,
   "metadata": {},
   "outputs": [
    {
     "name": "stdout",
     "output_type": "stream",
     "text": [
      "Number found.\n"
     ]
    }
   ],
   "source": [
    "number_list = [1, 2, 3, 4, 5, 6, 7, 8] \n",
    "if any (num == 4 for num in number_list):\n",
    "    print(\"Number found.\")\n",
    "else:\n",
    "    print(\"Number not found.\")"
   ]
  },
  {
   "cell_type": "markdown",
   "metadata": {},
   "source": [
    "Bonus: similar to the item above, create a function that checks if a string contains a given substring, e.g. 'I have a cat' contains the string sequence 'cat' or 'ave'."
   ]
  },
  {
   "cell_type": "code",
   "execution_count": 121,
   "metadata": {},
   "outputs": [
    {
     "name": "stdout",
     "output_type": "stream",
     "text": [
      "Hi buddy 8-)\n"
     ]
    }
   ],
   "source": [
    "string = \"Hello there pal :-)\"\n",
    "\n",
    "if \"pal\" in string:\n",
    "    print(\"Hi buddy 8-)\")\n",
    "else:\n",
    "    print(\":=(\")"
   ]
  },
  {
   "cell_type": "markdown",
   "metadata": {},
   "source": [
    "Bonus: create a function that given the initial speed of a projectile that is thrown at 90 degrees will calculate how much time the projectile will take to get back to the initial altitude. (yes you're expected to disregard air resistence)"
   ]
  },
  {
   "cell_type": "code",
   "execution_count": 8,
   "metadata": {},
   "outputs": [
    {
     "name": "stdout",
     "output_type": "stream",
     "text": [
      "Time taken to return: 10.19367991845056 seconds\n"
     ]
    }
   ],
   "source": [
    "def time_to_return(v_0, g=9.81):\n",
    "    \n",
    "    # # Calculate the time for a projectile launched at 90 degrees to return to its initial altitude.\n",
    "    \n",
    "    # v_0: The initial speed of projectile in meters per second - velocity\n",
    "    # g: Gravity in meters per second squared \n",
    "    \n",
    "    # The total time for the projectile to return to its initial altitude in seconds.\n",
    "    \n",
    "    # Time to reach the highest point\n",
    "    time_to_peak = v_0 / g\n",
    "    \n",
    "    # Total time to return to initial altitude\n",
    "    total_time = 2 * time_to_peak # Times by 2 for peak and return  \n",
    "    \n",
    "    return total_time\n",
    "\n",
    "# Prints time taken to return to initial altitude if thrown at a speed of 50 m/s\n",
    "v_0 = 50\n",
    "time_taken = time_to_return(v_0)\n",
    "print(f\"Time taken to return: {time_taken} seconds\")"
   ]
  },
  {
   "cell_type": "markdown",
   "metadata": {},
   "source": [
    "<h1>solve these questions...or ELSE</h1>\n",
    "\n",
    "Why the nested if statement below doesn't only produce the first print? Can you modify it so it produces the desired output?"
   ]
  },
  {
   "cell_type": "code",
   "execution_count": 28,
   "metadata": {},
   "outputs": [
    {
     "name": "stdout",
     "output_type": "stream",
     "text": [
      "Yeeeey!\n",
      "Yey.\n",
      "Yey!\n"
     ]
    }
   ],
   "source": [
    "# food = 'Pizza'\n",
    "# drinks = 'Beer'\n",
    "\n",
    "# if food == 'Pizza' and drinks == 'Beer':\n",
    "#     print('Yeeeey!')\n",
    "# if food == 'Pizza' and drinks != 'Beer':\n",
    "#     print('Yey.')\n",
    "# if food != 'Pizza' and drinks == 'Beer':\n",
    "#     print('Yey!')\n",
    "# else:\n",
    "#     print('.....???')\n",
    "\n",
    "food = 'Pizza'\n",
    "drinks = 'Beer'\n",
    "\n",
    "if food == 'Pizza' and drinks == 'Beer':\n",
    "    print('Yeeeey!')\n",
    "if food == 'Pizza' or drinks != 'Beer': # Must be changed to 'or' instead of 'and' so it looks if either statement is True\n",
    "    print('Yey.')\n",
    "if food != 'Pizza' or drinks == 'Beer': # Must be changed to 'or' instead of 'and' so it looks if either statement is True\n",
    "    print('Yey!')\n",
    "else:\n",
    "    print('.....???')"
   ]
  },
  {
   "cell_type": "markdown",
   "metadata": {},
   "source": [
    "<h1> Debugging </h1>\n",
    "None of the blocks of code below work. Your task is to make them work (if possible!) and add markup cells (or comments) explaining why they don't work."
   ]
  },
  {
   "cell_type": "markdown",
   "metadata": {},
   "source": [
    "print(\"Is this working?\")"
   ]
  },
  {
   "cell_type": "code",
   "execution_count": 54,
   "metadata": {},
   "outputs": [
    {
     "name": "stdout",
     "output_type": "stream",
     "text": [
      "^ This works\n"
     ]
    }
   ],
   "source": [
    "#print(\"does this work?\")\n",
    "print(\"It works\") # It worked fine already."
   ]
  },
  {
   "cell_type": "code",
   "execution_count": 55,
   "metadata": {},
   "outputs": [
    {
     "name": "stdout",
     "output_type": "stream",
     "text": [
      "about now? Yes it does now\n"
     ]
    }
   ],
   "source": [
    "#print(\"about now?') - Doesn't work because double quotations used at start and single at the end.\n",
    "print(\"about now? Yes it does now\") # Fixed"
   ]
  },
  {
   "cell_type": "code",
   "execution_count": 25,
   "metadata": {},
   "outputs": [
    {
     "name": "stdout",
     "output_type": "stream",
     "text": [
      "Today on a scale from 1 to 10 I am feeling...10\n"
     ]
    }
   ],
   "source": [
    "text_variable = \"Today on a scale from 1 to 10 I am feeling...\"\n",
    "my_mood = str(10)\n",
    "# print(text_variable my_mood) - Comma not used to seperate the 2 variables.\n",
    "print(text_variable+my_mood) # Fixed"
   ]
  },
  {
   "cell_type": "code",
   "execution_count": 12,
   "metadata": {},
   "outputs": [
    {
     "name": "stdout",
     "output_type": "stream",
     "text": [
      "Today on a scale from 1 to 10 I am feeling...10\n"
     ]
    }
   ],
   "source": [
    "text_variable = \"Today on a scale from 1 to 10 I am feeling...\"\n",
    "my_mood = str(10)\n",
    "print(text_variable+my_mood) #Yep there are ways to make it work with a + operator too!\n",
    "# Had to convert int to string as it threw - TypeError: can only concatenate str (not \"int\") to str"
   ]
  },
  {
   "cell_type": "code",
   "execution_count": 21,
   "metadata": {},
   "outputs": [],
   "source": [
    "# a_dictionary = {item1: \"Value 1\",\n",
    "#                 item2: \"Value 2\",}\n",
    "a_dictionary = {\"item1\": \"Value 1\",\n",
    "                \"item2\": \"Value 2\",} # - Keys must also be in quotation marks when working with dictionaries."
   ]
  },
  {
   "cell_type": "code",
   "execution_count": 23,
   "metadata": {},
   "outputs": [
    {
     "data": {
      "text/plain": [
       "True"
      ]
     },
     "execution_count": 23,
     "metadata": {},
     "output_type": "execute_result"
    }
   ],
   "source": [
    "1 == 1 # Should return True"
   ]
  },
  {
   "cell_type": "code",
   "execution_count": 1,
   "metadata": {},
   "outputs": [
    {
     "name": "stdout",
     "output_type": "stream",
     "text": [
      "Clap your hands\n"
     ]
    }
   ],
   "source": [
    "# Why isn't the outcome 'Clap your hands?'\n",
    "# mood = 'happy'\n",
    "# if mood == 'Happy':\n",
    "#     print('Clap your hands')\n",
    "# else:\n",
    "#     print('...do I look like I have this one figured out?')\n",
    "\n",
    "mood = 'Happy' # Mood was written as 'happy' in original code and Python is case-sensitive. \n",
    "if mood == 'Happy':\n",
    "    print('Clap your hands')\n",
    "else:\n",
    "    print('...do I look like I have this one figured out?')"
   ]
  },
  {
   "cell_type": "code",
   "execution_count": 37,
   "metadata": {},
   "outputs": [
    {
     "name": "stdout",
     "output_type": "stream",
     "text": [
      "a word another word\n"
     ]
    }
   ],
   "source": [
    "# def printerfunction(x,y):\n",
    "# print(x,y)\n",
    "\n",
    "# printerfunction(\"a word\", \"another word\")\n",
    "\n",
    "def printerfunction(x,y):\n",
    "    print(x,y) # When defining a function, the code inside the function must be indented by 4 spaces. This is unique to Python which essentially\n",
    "               # forces code to be written clearly. This is suggested in other languages but doesn't actually crash your program if not implemented. \n",
    "\n",
    "printerfunction(\"a word\", \"another word\")"
   ]
  }
 ],
 "metadata": {
  "kernelspec": {
   "display_name": "Python 3 (ipykernel)",
   "language": "python",
   "name": "python3"
  },
  "language_info": {
   "codemirror_mode": {
    "name": "ipython",
    "version": 3
   },
   "file_extension": ".py",
   "mimetype": "text/x-python",
   "name": "python",
   "nbconvert_exporter": "python",
   "pygments_lexer": "ipython3",
   "version": "3.13.0"
  }
 },
 "nbformat": 4,
 "nbformat_minor": 4
}
